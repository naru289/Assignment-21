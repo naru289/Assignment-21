{
  "nbformat": 4,
  "nbformat_minor": 0,
  "metadata": {
    "colab": {
      "provenance": [],
      "machine_shape": "hm",
      "include_colab_link": true
    },
    "kernelspec": {
      "name": "python3",
      "display_name": "Python 3"
    },
    "language_info": {
      "name": "python"
    },
    "accelerator": "GPU"
  },
  "cells": [
    {
      "cell_type": "markdown",
      "metadata": {
        "id": "view-in-github",
        "colab_type": "text"
      },
      "source": [
        "<a href=\"https://colab.research.google.com/github/naru289/Assignment-21/blob/main/M3_AST_21_Pretrained_models_for_Oxford_IIIT_pet_dataset_C%20Copy.ipynb\" target=\"_parent\"><img src=\"https://colab.research.google.com/assets/colab-badge.svg\" alt=\"Open In Colab\"/></a>"
      ]
    },
    {
      "cell_type": "markdown",
      "metadata": {
        "id": "5dGXDobTGtLT"
      },
      "source": [
        "# Advanced Programme in Deep Learning (Foundations and Applications)\n",
        "## A Program by IISc and TalentSprint\n",
        "### Assignment 21: Pre-Trained CNN Architectures for Computer Vision"
      ]
    },
    {
      "cell_type": "markdown",
      "metadata": {
        "id": "QjYMxTVlIC_E"
      },
      "source": [
        "## Learning Objectives"
      ]
    },
    {
      "cell_type": "markdown",
      "metadata": {
        "id": "0lU8MxWTIFHM"
      },
      "source": [
        "\n",
        "  At the end of the experiment, you will be able to understand:\n",
        "  * How to use Pretrained CNN Architctures\n",
        "  * How to implement CNN on Oxford-IIIT pet dataset\n",
        "  * How to use ResNet and GoogleNet Pytorch Models for Computer Vision tasks"
      ]
    },
    {
      "cell_type": "markdown",
      "metadata": {
        "id": "rlfhVGmy95YI"
      },
      "source": [
        "### Dataset Description\n",
        "\n",
        "The Oxford-IIIT cats and dogs dataset consists pictures of cats and dogs 37 category pet dataset with roughly 200 images for each class. The images have a large variations in scale, pose and lighting. All images have an associated ground truth annotation of breed. There are about 200 images per category. Here is the [link](https://www.robots.ox.ac.uk/~vgg/data/pets/) to the dataset."
      ]
    },
    {
      "cell_type": "markdown",
      "metadata": {
        "id": "Y9tzX2BCX-OB"
      },
      "source": [
        "### Problem Statement\n",
        "Given the cats and dogs images of 37 categories classify images using pretrained CNN architectures.\n",
        "\n",
        "**ResNet-50**,\n",
        "**GoogleNet Architectures**,\n",
        "\n"
      ]
    },
    {
      "cell_type": "markdown",
      "metadata": {
        "id": "psk_R-U_IexC"
      },
      "source": [
        "### Setup Steps:"
      ]
    },
    {
      "cell_type": "code",
      "metadata": {
        "id": "xWMVQWk58aXm"
      },
      "source": [
        "#@title Please enter your registration id to start: { run: \"auto\", display-mode: \"form\" }\n",
        "Id = \"2237180\" #@param {type:\"string\"}"
      ],
      "execution_count": 1,
      "outputs": []
    },
    {
      "cell_type": "code",
      "metadata": {
        "id": "cwqosl928dBA"
      },
      "source": [
        "#@title Please enter your password (normally your phone number) to continue: { run: \"auto\", display-mode: \"form\" }\n",
        "password = \"6366871391\" #@param {type:\"string\"}"
      ],
      "execution_count": 2,
      "outputs": []
    },
    {
      "cell_type": "code",
      "metadata": {
        "cellView": "form",
        "id": "GXbNUL2L6LoU",
        "outputId": "d6a12045-ca9b-4323-fd04-a87786f5d66d",
        "colab": {
          "base_uri": "https://localhost:8080/",
          "height": 54
        }
      },
      "source": [
        "#@title Run this cell to complete the setup for this Notebook\n",
        "from IPython import get_ipython\n",
        "import warnings\n",
        "warnings.filterwarnings(\"ignore\")\n",
        "\n",
        "ipython = get_ipython()\n",
        "\n",
        "notebook= \"M3_AST_21_Pretrained_models_for_Oxford_IIIT_pet_dataset_C\" #name of the notebook\n",
        "\n",
        "def setup():\n",
        "    ipython.magic(\"sx wget https://cdn.iisc.talentsprint.com/DLFA/Experiment_related_data/oxfordiitimage.zip\")\n",
        "    ipython.magic(\"sx unzip oxfordiitimage.zip\")\n",
        "    from IPython.display import HTML, display\n",
        "    display(HTML('<script src=\"https://dashboard.talentsprint.com/aiml/record_ip.html?traineeId={0}&recordId={1}\"></script>'.format(getId(),submission_id)))\n",
        "    print(\"Setup completed successfully\")\n",
        "    return\n",
        "\n",
        "def submit_notebook():\n",
        "    ipython.magic(\"notebook -e \"+ notebook + \".ipynb\")\n",
        "\n",
        "    import requests, json, base64, datetime\n",
        "\n",
        "    url = \"https://dashboard.talentsprint.com/xp/app/save_notebook_attempts\"\n",
        "    if not submission_id:\n",
        "      data = {\"id\" : getId(), \"notebook\" : notebook, \"mobile\" : getPassword()}\n",
        "      r = requests.post(url, data = data)\n",
        "      r = json.loads(r.text)\n",
        "\n",
        "      if r[\"status\"] == \"Success\":\n",
        "          return r[\"record_id\"]\n",
        "      elif \"err\" in r:\n",
        "        print(r[\"err\"])\n",
        "        return None\n",
        "      else:\n",
        "        print (\"Something is wrong, the notebook will not be submitted for grading\")\n",
        "        return None\n",
        "\n",
        "    elif getAnswer1() and getAnswer2() and getComplexity() and getAdditional() and getConcepts() and getComments() and getMentorSupport():\n",
        "      f = open(notebook + \".ipynb\", \"rb\")\n",
        "      file_hash = base64.b64encode(f.read())\n",
        "\n",
        "      data = {\"complexity\" : Complexity, \"additional\" :Additional,\n",
        "              \"concepts\" : Concepts, \"record_id\" : submission_id,\n",
        "              \"answer1\" : Answer1, \"answer2\" : Answer2, \"id\" : Id, \"file_hash\" : file_hash,\n",
        "              \"notebook\" : notebook,\n",
        "              \"feedback_experiments_input\" : Comments,\n",
        "              \"feedback_mentor_support\": Mentor_support}\n",
        "      r = requests.post(url, data = data)\n",
        "      r = json.loads(r.text)\n",
        "      if \"err\" in r:\n",
        "        print(r[\"err\"])\n",
        "        return None\n",
        "      else:\n",
        "        print(\"Your submission is successful.\")\n",
        "        print(\"Ref Id:\", submission_id)\n",
        "        print(\"Date of submission: \", r[\"date\"])\n",
        "        print(\"Time of submission: \", r[\"time\"])\n",
        "        print(\"View your submissions: https://dlfa-iisc.talentsprint.com/notebook_submissions\")\n",
        "        #print(\"For any queries/discrepancies, please connect with mentors through the chat icon in LMS dashboard.\")\n",
        "        return submission_id\n",
        "    else: submission_id\n",
        "\n",
        "\n",
        "def getAdditional():\n",
        "  try:\n",
        "    if not Additional:\n",
        "      raise NameError\n",
        "    else:\n",
        "      return Additional\n",
        "  except NameError:\n",
        "    print (\"Please answer Additional Question\")\n",
        "    return None\n",
        "\n",
        "def getComplexity():\n",
        "  try:\n",
        "    if not Complexity:\n",
        "      raise NameError\n",
        "    else:\n",
        "      return Complexity\n",
        "  except NameError:\n",
        "    print (\"Please answer Complexity Question\")\n",
        "    return None\n",
        "\n",
        "def getConcepts():\n",
        "  try:\n",
        "    if not Concepts:\n",
        "      raise NameError\n",
        "    else:\n",
        "      return Concepts\n",
        "  except NameError:\n",
        "    print (\"Please answer Concepts Question\")\n",
        "    return None\n",
        "\n",
        "\n",
        "# def getWalkthrough():\n",
        "#   try:\n",
        "#     if not Walkthrough:\n",
        "#       raise NameError\n",
        "#     else:\n",
        "#       return Walkthrough\n",
        "#   except NameError:\n",
        "#     print (\"Please answer Walkthrough Question\")\n",
        "#     return None\n",
        "\n",
        "def getComments():\n",
        "  try:\n",
        "    if not Comments:\n",
        "      raise NameError\n",
        "    else:\n",
        "      return Comments\n",
        "  except NameError:\n",
        "    print (\"Please answer Comments Question\")\n",
        "    return None\n",
        "\n",
        "\n",
        "def getMentorSupport():\n",
        "  try:\n",
        "    if not Mentor_support:\n",
        "      raise NameError\n",
        "    else:\n",
        "      return Mentor_support\n",
        "  except NameError:\n",
        "    print (\"Please answer Mentor support Question\")\n",
        "    return None\n",
        "\n",
        "def getAnswer1():\n",
        "  try:\n",
        "    if not Answer1:\n",
        "      raise NameError\n",
        "    else:\n",
        "      return Answer1\n",
        "  except NameError:\n",
        "    print (\"Please answer Question 1\")\n",
        "    return None\n",
        "\n",
        "def getAnswer2():\n",
        "  try:\n",
        "    if not Answer2:\n",
        "      raise NameError\n",
        "    else:\n",
        "      return Answer2\n",
        "  except NameError:\n",
        "    print (\"Please answer Question 2\")\n",
        "    return None\n",
        "\n",
        "\n",
        "def getId():\n",
        "  try:\n",
        "    return Id if Id else None\n",
        "  except NameError:\n",
        "    return None\n",
        "\n",
        "def getPassword():\n",
        "  try:\n",
        "    return password if password else None\n",
        "  except NameError:\n",
        "    return None\n",
        "\n",
        "submission_id = None\n",
        "### Setup\n",
        "if getPassword() and getId():\n",
        "  submission_id = submit_notebook()\n",
        "  if submission_id:\n",
        "    setup()\n",
        "else:\n",
        "  print (\"Please complete Id and Password cells before running setup\")\n",
        "\n"
      ],
      "execution_count": 3,
      "outputs": [
        {
          "output_type": "stream",
          "name": "stdout",
          "text": [
            "^C\n"
          ]
        },
        {
          "output_type": "display_data",
          "data": {
            "text/plain": [
              "<IPython.core.display.HTML object>"
            ],
            "text/html": [
              "<script src=\"https://dashboard.talentsprint.com/aiml/record_ip.html?traineeId=2237180&recordId=1906\"></script>"
            ]
          },
          "metadata": {}
        },
        {
          "output_type": "stream",
          "name": "stdout",
          "text": [
            "Setup completed successfully\n"
          ]
        }
      ]
    },
    {
      "cell_type": "markdown",
      "metadata": {
        "id": "n1s1L8cLMHpK"
      },
      "source": [
        "### Importing Libraries"
      ]
    },
    {
      "cell_type": "code",
      "metadata": {
        "id": "LdOqJqXKMBAq"
      },
      "source": [
        "import numpy as np\n",
        "import pandas as pd\n",
        "import os,shutil,glob,PIL\n",
        "import pathlib\n",
        "from PIL import Image\n",
        "import torch\n",
        "import torch.nn as nn\n",
        "import torch.nn.init as init\n",
        "from torch.utils.data import DataLoader\n",
        "from torchvision import transforms, datasets, utils\n",
        "import matplotlib.pyplot as plt\n",
        "import torchvision.models as models\n",
        "import torch.optim as optim\n",
        "from tqdm import tqdm"
      ],
      "execution_count": null,
      "outputs": []
    },
    {
      "cell_type": "markdown",
      "metadata": {
        "id": "n-GeXbTFrt1h"
      },
      "source": [
        "### Load the Oxford-IIIT Pet Dataset\n",
        "\n",
        "Now,\n",
        "\n",
        "* We will load the training set\n",
        "\n",
        "* We will use  transform.compose() to convert the datasets into tensors using transforms.ToTensor(). We also normalize them by setting the mean and standard deviation using transforms.Normalize()\n",
        "\n",
        "* we will resize the images to (224,224)\n",
        "\n"
      ]
    },
    {
      "cell_type": "code",
      "source": [
        "# Normalize with mean and std\n",
        "transform = transforms.Compose([transforms.Resize((224, 224)), transforms.ToTensor(), transforms.Normalize((0.4839, 0.4528, 0.3962), (0.2702, 0.2655, 0.2745))])"
      ],
      "metadata": {
        "id": "Dcdps4Yd-QmW"
      },
      "execution_count": null,
      "outputs": []
    },
    {
      "cell_type": "code",
      "metadata": {
        "id": "8NNBEo25TdwL"
      },
      "source": [
        "# Loading the train set file\n",
        "train_data_folder = \"/content/oxfordiitimage/train\" # Train directory for loading images\n",
        "train_data = datasets.ImageFolder(root=train_data_folder, transform=transform)"
      ],
      "execution_count": null,
      "outputs": []
    },
    {
      "cell_type": "markdown",
      "metadata": {
        "id": "-oI3i5Ykr7Lk"
      },
      "source": [
        "**torch.utils.data.DataLoader** class represents a Python iterable over a dataset, with following features.\n",
        "\n",
        "1. Batching the data\n",
        "2. Shuffling the data\n",
        "3. Load the data in parallel using multiprocessing workers.\n",
        "\n",
        "\n",
        "The batches of train and test data are provided via data loaders that provide iterators over the datasets to train our models.\n",
        "\n"
      ]
    },
    {
      "cell_type": "code",
      "metadata": {
        "id": "c8MK5f70mnAw"
      },
      "source": [
        "# Initializing batch size\n",
        "batch_size = 64\n",
        "\n",
        "# Loading the train dataset\n",
        "train_loader = torch.utils.data.DataLoader(train_data, batch_size=batch_size, shuffle=True)"
      ],
      "execution_count": null,
      "outputs": []
    },
    {
      "cell_type": "code",
      "source": [
        "# Generate a batches of images and labels\n",
        "train_images, train_labels = next(iter(train_loader))\n",
        "train_images.shape, train_labels.shape"
      ],
      "metadata": {
        "id": "aThmGpZVOgas"
      },
      "execution_count": null,
      "outputs": []
    },
    {
      "cell_type": "markdown",
      "source": [
        "### Visualizing the train images"
      ],
      "metadata": {
        "id": "KYC6G9PJQJT6"
      }
    },
    {
      "cell_type": "code",
      "source": [
        "# labels Translator\n",
        "label_names = {v: k for k, v in train_data.class_to_idx.items()}\n",
        "label_names"
      ],
      "metadata": {
        "id": "PjpO-wlIQFZM"
      },
      "execution_count": null,
      "outputs": []
    },
    {
      "cell_type": "code",
      "source": [
        "# Create a grid of images along with their corresponding labels\n",
        "L = 3\n",
        "W = 3\n",
        "\n",
        "fig, axes = plt.subplots(L, W, figsize = (10, 10))\n",
        "axes = axes.reshape(-1)\n",
        "\n",
        "for i in np.arange(0, L*W):\n",
        "    axes[i].imshow(train_images[i].permute(1, 2, 0))\n",
        "    axes[i].set_title(label_names[train_labels[i].item()])\n",
        "    axes[i].axis('on')\n",
        "\n",
        "plt.tight_layout()"
      ],
      "metadata": {
        "id": "Ad90szHuQiez"
      },
      "execution_count": null,
      "outputs": []
    },
    {
      "cell_type": "markdown",
      "metadata": {
        "id": "A2QGrcUKsLAm"
      },
      "source": [
        "Calculation of mean and standard deviation of images for normalizing the images with Pytorch transformations"
      ]
    },
    {
      "cell_type": "code",
      "metadata": {
        "id": "9aeTuGzRmoCM"
      },
      "source": [
        "# mean = 0.0\n",
        "# for img, _ in train_data:\n",
        "#   mean += img.mean([1,2])\n",
        "# mean = mean/len(train_data)\n",
        "# print(mean)"
      ],
      "execution_count": null,
      "outputs": []
    },
    {
      "cell_type": "code",
      "metadata": {
        "id": "YNpo8BVFmsz9"
      },
      "source": [
        "# sumel = 0.0\n",
        "# countel = 0\n",
        "# for img, _ in train_data:\n",
        "#     img = (img - mean.unsqueeze(1).unsqueeze(1))**2\n",
        "#     sumel += img.sum([1, 2])\n",
        "#     countel += torch.numel(img[0])\n",
        "# std = torch.sqrt(sumel/countel)\n",
        "# print(std)"
      ],
      "execution_count": null,
      "outputs": []
    },
    {
      "cell_type": "markdown",
      "metadata": {
        "id": "8A26a2hIsDi9"
      },
      "source": [
        "Let us check the number of classes present in train data set"
      ]
    },
    {
      "cell_type": "code",
      "metadata": {
        "id": "SCQhRygOrrro"
      },
      "source": [
        "# No of Categories\n",
        "len(train_data.classes)"
      ],
      "execution_count": null,
      "outputs": []
    },
    {
      "cell_type": "code",
      "source": [
        "# Number of training samples\n",
        "len(train_data)"
      ],
      "metadata": {
        "id": "CcTmpeotDpw3"
      },
      "execution_count": null,
      "outputs": []
    },
    {
      "cell_type": "code",
      "source": [
        "# Size of one training image\n",
        "train_data[0][0].size()"
      ],
      "metadata": {
        "id": "vXkzNVJFDuZE"
      },
      "execution_count": null,
      "outputs": []
    },
    {
      "cell_type": "markdown",
      "source": [
        "The train and test data are provided via data loaders that provide iterators over the datasets.\n",
        "\n",
        "The first element of training data (X_train) is a 4th-order tensor of size (batch_size, 3, 224, 224), i.e. it consists of a batch of images of size 3x64x64 pixels where '3' represents 3 input image channel i.e. RGB. y_train is a vector containing the correct classes.\n"
      ],
      "metadata": {
        "id": "-q2vSsI5D8wh"
      }
    },
    {
      "cell_type": "code",
      "source": [
        "for (X_train, y_train) in train_loader:\n",
        "    print('X_train:', X_train.size(), 'type:', X_train.type())\n",
        "    print('y_train:', y_train.size(), 'type:', y_train.type())\n",
        "    break"
      ],
      "metadata": {
        "id": "iWg54Z7lD1u6"
      },
      "execution_count": null,
      "outputs": []
    },
    {
      "cell_type": "markdown",
      "metadata": {
        "id": "VLbBz47OsULF"
      },
      "source": [
        "### Initializing CUDA\n",
        "\n",
        "CUDA is used as an interface between our code and the GPU.\n",
        "\n",
        "Normally, we run the code in the CPU. To run it in the GPU, we need CUDA. Check if CUDA is available:"
      ]
    },
    {
      "cell_type": "code",
      "source": [
        "# To test whether GPU instance is present in the system of not.\n",
        "use_cuda = torch.cuda.is_available()\n",
        "print('Using PyTorch version:', torch.__version__, 'CUDA:', use_cuda)"
      ],
      "metadata": {
        "id": "sDxWxjbGF_9S"
      },
      "execution_count": null,
      "outputs": []
    },
    {
      "cell_type": "markdown",
      "source": [
        "If it's False, then we run the program on CPU. If it's True, then we run the program on GPU.\n",
        "\n",
        "Let us initialize some GPU-related variables:"
      ],
      "metadata": {
        "id": "tseE8ZIoGGrx"
      }
    },
    {
      "cell_type": "code",
      "metadata": {
        "id": "uXpmrOcMrroj"
      },
      "source": [
        "device = torch.device(\"cuda\" if use_cuda else \"cpu\")\n",
        "device"
      ],
      "execution_count": null,
      "outputs": []
    },
    {
      "cell_type": "code",
      "metadata": {
        "id": "DKS7HzwaeSuJ"
      },
      "source": [
        "!nvidia-smi"
      ],
      "execution_count": null,
      "outputs": []
    },
    {
      "cell_type": "markdown",
      "metadata": {
        "id": "M1kkpgNIuReM"
      },
      "source": [
        "## ImageNet Dataset"
      ]
    },
    {
      "cell_type": "markdown",
      "metadata": {
        "id": "M68aria-uNCk"
      },
      "source": [
        "**ImageNet** is an image database containing 1000 categories and 1.2 million images, in which each node of the hierarchy is depicted by hundreds and thousands of images. The project has been instrumental in advancing computer vision and deep learning research. The data is available for free to researchers for non-commercial use."
      ]
    },
    {
      "cell_type": "markdown",
      "metadata": {
        "id": "8SUl626g50rz"
      },
      "source": [
        "### Transfer Learning\n",
        "**Transfer learning** consists of taking features learned on one problem, and leveraging them on a new, similar problem.\n",
        "\n",
        "Also, here we are using a **pre-trained model** which is a saved network that was previously trained on a ImageNet dataset.\n",
        "\n",
        "The intuition behind transfer learning for image classification is that if a model is trained on a large and general enough dataset, this model will effectively serve as a generic model of the visual world. You can then take advantage of these learned feature maps without having to start from scratch by training a large model on a large dataset.\n",
        "\n",
        "For eg. using ResNet50, we remove the last layer which takes a probability for each of the 1000 classes in the ImageNet and replaces it with a layer that takes 37 probabilities in our case.\n"
      ]
    },
    {
      "cell_type": "markdown",
      "metadata": {
        "id": "nzjhJW3NyVHy"
      },
      "source": [
        "#### ResNet - 50\n",
        "\n",
        "Before moving ahead with Transfer Learning using ResNet, let us first try to understand about ResNet50 and it's architecture.\n",
        "\n",
        "ResNet-50 is a convolutional neural network that is 50 layers deep. You can load a pretrained version of the network trained on more than a million images from the ImageNet database. The pretrained network can classify images into 1000 object categories, such as keyboard, mouse, pencil, and many animals. As a result, the network has learned rich feature representations for a wide range of images. The network has an image input size of 224-by-224.\n",
        "\n",
        "\n",
        "\n",
        "![The-architecture-of-ResNet50-and-deep-learning-model-flowchart-a-b-Architecture-of.jpg](data:image/jpeg;base64,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)"
      ]
    },
    {
      "cell_type": "markdown",
      "metadata": {
        "id": "QcTkXpaZzaos"
      },
      "source": [
        "Since, now we are aware of ResNet50 and it's architecture, let us build the model."
      ]
    },
    {
      "cell_type": "code",
      "metadata": {
        "id": "DSghmFYueTRX"
      },
      "source": [
        "model_ft = models.resnet50(pretrained=True)\n",
        "num_ftrs = model_ft.fc.in_features\n",
        "model_ft.fc = nn.Linear(num_ftrs, 37)\n",
        "model_ft = model_ft.to(device)\n",
        "print(model_ft)"
      ],
      "execution_count": null,
      "outputs": []
    },
    {
      "cell_type": "markdown",
      "metadata": {
        "id": "PDtYj4C2zg4z"
      },
      "source": [
        "We can see that ResNet50 model is downloaded and we tuned its number of ouput features to 37."
      ]
    },
    {
      "cell_type": "markdown",
      "metadata": {
        "id": "vfpATSwbzqQ7"
      },
      "source": [
        "#### Defining Adam Optimizer and Loss function\n",
        "Here, we will implement Adam optmizer using `torch.optim` module."
      ]
    },
    {
      "cell_type": "code",
      "metadata": {
        "id": "SVxJdVQIeTRY"
      },
      "source": [
        "criterion = nn.CrossEntropyLoss()\n",
        "optimizer = optim.Adam(model_ft.parameters(), lr=0.001)"
      ],
      "execution_count": null,
      "outputs": []
    },
    {
      "cell_type": "markdown",
      "metadata": {
        "id": "0Xh0bvigzvmD"
      },
      "source": [
        "### Training the model\n",
        "\n",
        "Let's now define functions to train() the model.\n",
        "\n",
        "In Training Phase, we iterate over a batch of images in the train_loader. For each batch, we perform  the following steps:\n",
        "\n",
        "* First we zero out the gradients using zero_grad()\n",
        "\n",
        "* We pass the data to the model i.e. we perform forward pass by calling the forward()\n",
        "\n",
        "* We calculate the loss using the actual and predicted labels\n",
        "\n",
        "* Perform Backward pass using backward() to update the weights"
      ]
    },
    {
      "cell_type": "code",
      "metadata": {
        "id": "RYOnJaQbeTRZ"
      },
      "source": [
        "train_accu = []     # Empty list for saving train accuracy\n",
        "train_losses = []   # Empty list for saving train losses\n",
        "\n",
        "def train(epoch):\n",
        "\n",
        "  print('\\nEpoch : %d'%epoch)\n",
        "\n",
        "  model_ft.train()    # Initiate the model in training mode\n",
        "\n",
        "  running_loss=0\n",
        "  correct=0\n",
        "  total=0\n",
        "\n",
        "  # Loop through each batch of images in train set\n",
        "  for data in tqdm(train_loader):\n",
        "\n",
        "    inputs, labels = data[0].to(device), data[1].to(device)   # Loading the input tensors into CUDA GPU\n",
        "\n",
        "    # Zero out the gradients from the preivous step\n",
        "    optimizer.zero_grad()\n",
        "\n",
        "    # Forward pass (this calls the \"forward\" function within model_ft)\n",
        "    outputs = model_ft(inputs)\n",
        "\n",
        "    # Calculating the loss\n",
        "    loss = criterion(outputs, labels)\n",
        "\n",
        "    # Back Propagation for calculaing gradients and adjusting weights\n",
        "    loss.backward()\n",
        "    optimizer.step()\n",
        "\n",
        "    running_loss += loss.item()\n",
        "\n",
        "    # Picking the class/label with maximum probability\n",
        "    _, predicted = outputs.max(1)\n",
        "    total += labels.size(0)\n",
        "    correct += predicted.eq(labels).sum().item()\n",
        "\n",
        "\n",
        "  train_loss = running_loss/len(train_loader)     # Calculating the mean of training loss\n",
        "  accu = 100.*correct/total                       # Calculating the accuracy\n",
        "\n",
        "  train_accu.append(accu)\n",
        "  train_losses.append(train_loss)\n",
        "  print('Train Loss: %.3f | Accuracy: %.3f'%(train_loss,accu))"
      ],
      "execution_count": null,
      "outputs": []
    },
    {
      "cell_type": "markdown",
      "metadata": {
        "id": "QewVALZZz2Sb"
      },
      "source": [
        "Let us train the model for 20 epochs."
      ]
    },
    {
      "cell_type": "code",
      "metadata": {
        "id": "J3WeqbfIeTRZ"
      },
      "source": [
        "epochs = 20\n",
        "for epoch in range(1, epochs+1):\n",
        "  train(epoch)"
      ],
      "execution_count": null,
      "outputs": []
    },
    {
      "cell_type": "markdown",
      "metadata": {
        "id": "Xm2fwzkO0IGK"
      },
      "source": [
        "Now, let us save the trained model for inferencing in future."
      ]
    },
    {
      "cell_type": "code",
      "metadata": {
        "id": "wJ58uTk8eTRa"
      },
      "source": [
        "PATH='/content/Oxford-IIIT-ResNet50.pth'\n",
        "torch.save(model_ft.state_dict(), PATH)"
      ],
      "execution_count": null,
      "outputs": []
    },
    {
      "cell_type": "markdown",
      "metadata": {
        "id": "0wXgB1xN0Nci"
      },
      "source": [
        "### Plotting the train accuracy and train loss vs epochs"
      ]
    },
    {
      "cell_type": "markdown",
      "metadata": {
        "id": "QdmFsNEQ0PeK"
      },
      "source": [
        "#### Plotting train accuracy"
      ]
    },
    {
      "cell_type": "code",
      "metadata": {
        "id": "-vZvbTE9eTRa"
      },
      "source": [
        "plt.plot(train_accu,'-o')\n",
        "plt.xlabel('epoch')\n",
        "plt.ylabel('accuracy')\n",
        "plt.legend(['Train'])\n",
        "plt.show()"
      ],
      "execution_count": null,
      "outputs": []
    },
    {
      "cell_type": "markdown",
      "metadata": {
        "id": "Q4XaOuI50XWa"
      },
      "source": [
        "#### Plotting train loss"
      ]
    },
    {
      "cell_type": "code",
      "metadata": {
        "id": "PfwYvzGjeTRb"
      },
      "source": [
        "plt.plot(train_losses,'-o')\n",
        "plt.xlabel('epoch')\n",
        "plt.ylabel('Loss')\n",
        "plt.legend(['Train'])\n",
        "plt.title('Train Loss')\n",
        "plt.show()"
      ],
      "execution_count": null,
      "outputs": []
    },
    {
      "cell_type": "markdown",
      "metadata": {
        "id": "7xUqWJaY0blD"
      },
      "source": [
        "Let us load the model weights using `load_state_dict` function\n",
        "\n",
        "Note that `load_state_dict` function takes dictionary object ,not a path to saved object .This means that you must deserialize the saved `state_dict` before you pass it to the `load_state_dict()` function."
      ]
    },
    {
      "cell_type": "code",
      "metadata": {
        "id": "ClP3gm75eTRb"
      },
      "source": [
        "PATH = '/content/Oxford-IIIT-ResNet50.pth'\n",
        "model_ft.load_state_dict(torch.load(PATH))"
      ],
      "execution_count": null,
      "outputs": []
    },
    {
      "cell_type": "markdown",
      "metadata": {
        "id": "Cs6ZuMxj2wZS"
      },
      "source": [
        "### Prediction on the test images\n",
        "Our trained model is applied on test directory and the output tensor containing labels is saved in predictions."
      ]
    },
    {
      "cell_type": "markdown",
      "metadata": {
        "id": "lPWnQzOs3KWZ"
      },
      "source": [
        "Now, let us initiate the Pytorch model in eval() mode.\n",
        "\n",
        "`model_ft.eval()` is a kind of switch for some specific layers/parts of the model that behave differently during training and inference (evaluating) time. For example, Dropouts Layers, BatchNorm Layers etc. You need to turn off them during model evaluation, and `.eval()` will do it for you"
      ]
    },
    {
      "cell_type": "code",
      "metadata": {
        "id": "SYs0Sy5heTRc"
      },
      "source": [
        "model_ft.eval()"
      ],
      "execution_count": null,
      "outputs": []
    },
    {
      "cell_type": "markdown",
      "metadata": {
        "id": "3gOlHn793Wu6"
      },
      "source": [
        "Here, we will resize the test images to (224,224) and normalize them with mean and standard deviation."
      ]
    },
    {
      "cell_type": "code",
      "metadata": {
        "id": "YFesBjpqeTRd"
      },
      "source": [
        "# Load the testset\n",
        "test_data_folder = \"/content/oxfordiitimage/test\" # Train directory for loading images\n",
        "test_data = datasets.ImageFolder(root=test_data_folder, transform=transform)"
      ],
      "execution_count": null,
      "outputs": []
    },
    {
      "cell_type": "markdown",
      "metadata": {
        "id": "4S5qtESD3gkP"
      },
      "source": [
        "Loading the images using `DataLoader()` with batch_size = 1 to be suitable for prediction"
      ]
    },
    {
      "cell_type": "code",
      "metadata": {
        "id": "tAd4ghVUeTRd"
      },
      "source": [
        "test_loader = torch.utils.data.DataLoader(test_data, batch_size=1)"
      ],
      "execution_count": null,
      "outputs": []
    },
    {
      "cell_type": "markdown",
      "metadata": {
        "id": "tVKi66QI4DcL"
      },
      "source": [
        "Here we are predicting images and comparing them with actual labels(Ground truth) for counting correct predictions"
      ]
    },
    {
      "cell_type": "code",
      "metadata": {
        "id": "ruOWGXuleTRe"
      },
      "source": [
        "predictions = []\n",
        "labels = []\n",
        "j = 0\n",
        "\n",
        "# Loop through the test set\n",
        "for i, data in enumerate(test_loader):\n",
        "  input, label = data\n",
        "  # print(input.shape ,test_data.classes[label])\n",
        "\n",
        "  # Forward pass (this calls the \"forward\" function within model_ft)\n",
        "  output = model_ft(input.to(device))\n",
        "\n",
        "  # Output as max probability\n",
        "  pred = torch.max(output,1)\n",
        "\n",
        "  # Storing the actuals and the predictions\n",
        "  labels.append(test_data.classes[label])\n",
        "  predictions.append(test_data.classes[pred.indices])\n",
        "  if test_data.classes[pred.indices] == test_data.classes[label]:\n",
        "    j+=1"
      ],
      "execution_count": null,
      "outputs": []
    },
    {
      "cell_type": "markdown",
      "metadata": {
        "id": "1afNK59R4XFJ"
      },
      "source": [
        "### Accuracy of ResNet50 model on test dataset"
      ]
    },
    {
      "cell_type": "code",
      "metadata": {
        "id": "AZs8K30RsR4T"
      },
      "source": [
        "print(j/len(test_loader))"
      ],
      "execution_count": null,
      "outputs": []
    },
    {
      "cell_type": "markdown",
      "metadata": {
        "id": "GELDCtc246lM"
      },
      "source": [
        "### Saving the labels(Ground truth) and prediction to a DataFrame for comaparison"
      ]
    },
    {
      "cell_type": "code",
      "metadata": {
        "id": "EhJov-m942Dn"
      },
      "source": [
        "results = pd.DataFrame()\n",
        "results['Labels'] = pd.Series(labels)\n",
        "results['Predictions'] = pd.Series(predictions)"
      ],
      "execution_count": null,
      "outputs": []
    },
    {
      "cell_type": "code",
      "metadata": {
        "id": "ownulTl942Do"
      },
      "source": [
        "# Here we are creating a column to show whether prediction is Correct/Wrong\n",
        "results['Correct/Wrong'] = np.where((results['Labels'] == results['Predictions']) , \"Correct\", \"Wrong\")"
      ],
      "execution_count": null,
      "outputs": []
    },
    {
      "cell_type": "markdown",
      "metadata": {
        "id": "axXzHOCP5U5K"
      },
      "source": [
        "###Saving the results to a csv file"
      ]
    },
    {
      "cell_type": "code",
      "metadata": {
        "id": "VTheDA6C42Do"
      },
      "source": [
        "results.to_csv(\"ResNet50_Predictions.csv\")"
      ],
      "execution_count": null,
      "outputs": []
    },
    {
      "cell_type": "code",
      "metadata": {
        "id": "fzozHvU942Dp"
      },
      "source": [
        "wrong_prediction = results[results['Correct/Wrong'] == \"Wrong\"]\n",
        "wrong_prediction.head()"
      ],
      "execution_count": null,
      "outputs": []
    },
    {
      "cell_type": "markdown",
      "metadata": {
        "id": "7jn6wWS75bq5"
      },
      "source": [
        "#### Count of correct predictions and wrong predictions"
      ]
    },
    {
      "cell_type": "code",
      "metadata": {
        "id": "3CGPFEp442Dq"
      },
      "source": [
        "results[\"Correct/Wrong\"].value_counts()"
      ],
      "execution_count": null,
      "outputs": []
    },
    {
      "cell_type": "code",
      "metadata": {
        "id": "kPYcR4BQ42Dq"
      },
      "source": [
        "correct_prediction = results[results['Correct/Wrong'] == \"Correct\"]\n",
        "correct_prediction.head()"
      ],
      "execution_count": null,
      "outputs": []
    },
    {
      "cell_type": "markdown",
      "metadata": {
        "id": "kFqvjP6XDoKM"
      },
      "source": [
        "### GoogleNet\n",
        "\n",
        "Before moving ahead with Transfer Learning using GoogleNet, let us first try to understand about GoogleNet and it's architecture.\n",
        "\n",
        "GoogLeNet is a convolutional neural network that is 22 layers deep. You can load a pretrained version of the network trained on either the ImageNet data set. The network trained on ImageNet classifies images into 1000 object categories, such as keyboard, mouse, pencil, and many animals. These networks have learned different feature representations for a wide range of images. The pretrained networks both have an image input size of 224-by-224.\n",
        "\n",
        "\n",
        "![A-simplified-block-diagram-of-the-GoogLeNet-Architecture.png](data:image/png;base64,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)"
      ]
    },
    {
      "cell_type": "markdown",
      "metadata": {
        "id": "XRq7oxy7EXHF"
      },
      "source": [
        "Since, now we are aware of GoogleNet and it's architecture, let us build the model."
      ]
    },
    {
      "cell_type": "code",
      "metadata": {
        "id": "jHdZSWV4-mw1"
      },
      "source": [
        "model_ft = models.googlenet(pretrained=True)\n",
        "num_ftrs = model_ft.fc.in_features\n",
        "model_ft.fc = nn.Linear(num_ftrs,37)\n",
        "model_ft = model_ft.to(device)\n",
        "print(model_ft)"
      ],
      "execution_count": null,
      "outputs": []
    },
    {
      "cell_type": "markdown",
      "metadata": {
        "id": "0oVRnvxFEmHP"
      },
      "source": [
        "We can see that GoogleNet model is downloaded and we tuned its number of ouput features to 37."
      ]
    },
    {
      "cell_type": "markdown",
      "source": [
        "#### Implementing Adam Optimizer and Loss function\n",
        "Here, we will implement Adam optmizer using `torch.optim` module."
      ],
      "metadata": {
        "id": "HgeDt8wD31cb"
      }
    },
    {
      "cell_type": "code",
      "source": [
        "criterion = nn.CrossEntropyLoss()\n",
        "optimizer = optim.Adam(model_ft.parameters(), lr=0.001)"
      ],
      "metadata": {
        "id": "4UfHA21J3yvV"
      },
      "execution_count": null,
      "outputs": []
    },
    {
      "cell_type": "markdown",
      "metadata": {
        "id": "sk6qIb0DFKiU"
      },
      "source": [
        "Let us create helper function to train function the images."
      ]
    },
    {
      "cell_type": "code",
      "metadata": {
        "id": "9JLP1bBV-mw2"
      },
      "source": [
        "train_accu = []     # Empty list for saving train accuracy\n",
        "train_losses = []   # Empty list for saving train losses\n",
        "def train(epoch):\n",
        "  print('\\nEpoch : %d'%epoch)\n",
        "\n",
        "  model_ft.train()    # Initiate the model in training mode\n",
        "\n",
        "  running_loss = 0\n",
        "  correct = 0\n",
        "  total = 0\n",
        "\n",
        "  for data in tqdm(train_loader):\n",
        "\n",
        "    inputs,labels=data[0].to(device),data[1].to(device)   # Loading the input tensors into CUDA GPU\n",
        "\n",
        "    optimizer.zero_grad()\n",
        "    outputs = model_ft(inputs)\n",
        "    loss = criterion(outputs,labels)  # Calculating the loss\n",
        "    loss.backward()                   # Back Propagation for calculaing gradients and adjusting weights\n",
        "    optimizer.step()\n",
        "\n",
        "    running_loss += loss.item()\n",
        "\n",
        "    _, predicted = outputs.max(1)\n",
        "    total += labels.size(0)\n",
        "    correct += predicted.eq(labels).sum().item()\n",
        "\n",
        "\n",
        "  train_loss = running_loss/len(train_loader)     # Calculating the mean of training loss\n",
        "  accu = 100.*correct/total                       # Calculating the accuracy\n",
        "\n",
        "  train_accu.append(accu)\n",
        "  train_losses.append(train_loss)\n",
        "  print('Train Loss: %.3f | Accuracy: %.3f'%(train_loss,accu))"
      ],
      "execution_count": null,
      "outputs": []
    },
    {
      "cell_type": "markdown",
      "metadata": {
        "id": "HwfiLLgIFUjD"
      },
      "source": [
        "Let us train the model for 20 epochs."
      ]
    },
    {
      "cell_type": "code",
      "metadata": {
        "id": "9tHjFg1n-mw3"
      },
      "source": [
        "epochs = 20\n",
        "for epoch in range(1, epochs+1):\n",
        "  train(epoch)"
      ],
      "execution_count": null,
      "outputs": []
    },
    {
      "cell_type": "markdown",
      "source": [
        "To improve the accuracy run the model for more no of epochs"
      ],
      "metadata": {
        "id": "9OXnvAG2kfQb"
      }
    },
    {
      "cell_type": "markdown",
      "metadata": {
        "id": "Q6lpACkAFmbh"
      },
      "source": [
        "Now, let us save the trained model for inferencing in future."
      ]
    },
    {
      "cell_type": "code",
      "metadata": {
        "id": "FOcCcGbu-mw3"
      },
      "source": [
        "PATH = '/content/Oxford-IIIT-GoogleNet.pth'\n",
        "torch.save(model_ft.state_dict(), PATH)"
      ],
      "execution_count": null,
      "outputs": []
    },
    {
      "cell_type": "markdown",
      "metadata": {
        "id": "gw1JchZXFvND"
      },
      "source": [
        "### Plotting the train accuracy and train loss vs epochs"
      ]
    },
    {
      "cell_type": "markdown",
      "metadata": {
        "id": "QQR4f08uFvNE"
      },
      "source": [
        "#### Plotting train accuracy"
      ]
    },
    {
      "cell_type": "code",
      "metadata": {
        "id": "UPf5Yczj-mw4"
      },
      "source": [
        "plt.plot(train_accu,'-o')\n",
        "plt.xlabel('epoch')\n",
        "plt.ylabel('accuracy')\n",
        "plt.legend(['Train'])\n",
        "plt.show()"
      ],
      "execution_count": null,
      "outputs": []
    },
    {
      "cell_type": "markdown",
      "metadata": {
        "id": "tjPb0sZtF5x9"
      },
      "source": [
        "#### Plotting train loss"
      ]
    },
    {
      "cell_type": "code",
      "metadata": {
        "id": "CN7_G-Us-mw4"
      },
      "source": [
        "plt.plot(train_losses,'-o')\n",
        "plt.xlabel('epoch')\n",
        "plt.ylabel('Loss')\n",
        "plt.legend(['Train'])\n",
        "plt.title('Train Loss')\n",
        "plt.show()"
      ],
      "execution_count": null,
      "outputs": []
    },
    {
      "cell_type": "markdown",
      "metadata": {
        "id": "s05KNv0RGHnk"
      },
      "source": [
        "Let us load the model weights using `load_state_dict` function\n",
        "\n",
        "Note that `load_state_dict` function takes dictionary object ,not a path to saved object .This means that you must deserialize the saved `state_dict` before you pass it to the `load_state_dict()` function."
      ]
    },
    {
      "cell_type": "code",
      "metadata": {
        "id": "VKhDSpgpGLQz"
      },
      "source": [
        "PATH='/content/Oxford-IIIT-GoogleNet.pth'\n",
        "model_ft.load_state_dict(torch.load(PATH))"
      ],
      "execution_count": null,
      "outputs": []
    },
    {
      "cell_type": "markdown",
      "metadata": {
        "id": "IXVMpLMFGHnm"
      },
      "source": [
        "### Prediction on the test images\n",
        "Our trained model is applied on test directory and the output tensor containing labels is saved in predictions."
      ]
    },
    {
      "cell_type": "markdown",
      "metadata": {
        "id": "01owl_KnGHnn"
      },
      "source": [
        "Now, let us initiate the Pytorch model in eval() mode.\n",
        "\n",
        "`model_ft.eval()` is a kind of switch for some specific layers/parts of the model that behave differently during training and inference (evaluating) time. For example, Dropouts Layers, BatchNorm Layers etc. You need to turn off them during model evaluation, and `.eval()` will do it for you"
      ]
    },
    {
      "cell_type": "code",
      "metadata": {
        "id": "OD-ZfBdF-mw5"
      },
      "source": [
        "model_ft.eval()"
      ],
      "execution_count": null,
      "outputs": []
    },
    {
      "cell_type": "markdown",
      "metadata": {
        "id": "oJ-kiy2nGlK1"
      },
      "source": [
        "Here we are predicting images and comparing them with actual labels(Ground truth) for counting correct predictions"
      ]
    },
    {
      "cell_type": "code",
      "metadata": {
        "id": "fg0jSv3w-mw9"
      },
      "source": [
        "predictions = []\n",
        "labels = []\n",
        "j = 0\n",
        "for i,data in enumerate(test_loader):\n",
        "  input,label = data\n",
        "  output = model_ft(input.to(device))\n",
        "  pred = torch.max(output,1)\n",
        "  labels.append(test_data.classes[label])\n",
        "  predictions.append(test_data.classes[pred.indices])\n",
        "  if test_data.classes[pred.indices] == test_data.classes[label]:\n",
        "    j+=1"
      ],
      "execution_count": null,
      "outputs": []
    },
    {
      "cell_type": "markdown",
      "metadata": {
        "id": "xwiHvJtmGtmz"
      },
      "source": [
        "### Accuracy of GoogleNet model on test dataset"
      ]
    },
    {
      "cell_type": "code",
      "metadata": {
        "id": "XdAMG_JhGZjw"
      },
      "source": [
        "print(j/len(test_loader))"
      ],
      "execution_count": null,
      "outputs": []
    },
    {
      "cell_type": "markdown",
      "metadata": {
        "id": "Eu9L0JinHXPU"
      },
      "source": [
        "### Saving the labels(Ground truth) and prediction to a DataFrame for comaparing"
      ]
    },
    {
      "cell_type": "code",
      "metadata": {
        "id": "5hzCHubBHXPW"
      },
      "source": [
        "results = pd.DataFrame()\n",
        "results['Labels'] = pd.Series(labels)\n",
        "results['Predictions'] = pd.Series(predictions)"
      ],
      "execution_count": null,
      "outputs": []
    },
    {
      "cell_type": "code",
      "metadata": {
        "id": "I-kTeifwHXPW"
      },
      "source": [
        "# Here we are creating a column to show whether prediction is Correct/Wrong\n",
        "results['Correct/Wrong'] = np.where((results['Labels'] == results['Predictions']) , \"Correct\", \"Wrong\")"
      ],
      "execution_count": null,
      "outputs": []
    },
    {
      "cell_type": "markdown",
      "metadata": {
        "id": "Nn5eyApWHXPX"
      },
      "source": [
        "###Saving the results to a csv file"
      ]
    },
    {
      "cell_type": "code",
      "metadata": {
        "id": "8GXgoYx0HXPX"
      },
      "source": [
        "results.to_csv(\"GoogleNet_Predictions.csv\")"
      ],
      "execution_count": null,
      "outputs": []
    },
    {
      "cell_type": "code",
      "metadata": {
        "id": "3eHqH2RLIBvH"
      },
      "source": [
        "wrong_prediction = results[results['Correct/Wrong'] == \"Wrong\"]\n",
        "wrong_prediction.head()"
      ],
      "execution_count": null,
      "outputs": []
    },
    {
      "cell_type": "markdown",
      "metadata": {
        "id": "5hsQWGq1H271"
      },
      "source": [
        "#### Count of correct predictions and wrong predictions"
      ]
    },
    {
      "cell_type": "code",
      "metadata": {
        "id": "vCl6_DnQLClf"
      },
      "source": [
        "results[\"Correct/Wrong\"].value_counts()"
      ],
      "execution_count": null,
      "outputs": []
    },
    {
      "cell_type": "code",
      "metadata": {
        "id": "5xvA8rqJIHdX"
      },
      "source": [
        "correct_prediction = results[results['Correct/Wrong'] == \"Correct\"]\n",
        "correct_prediction.head()"
      ],
      "execution_count": null,
      "outputs": []
    },
    {
      "cell_type": "markdown",
      "metadata": {
        "id": "VHfHdGCP_n6Y"
      },
      "source": [
        "### Please answer the questions below to complete the experiment:\n",
        "\n",
        "\n"
      ]
    },
    {
      "cell_type": "markdown",
      "metadata": {
        "id": "QWMMvqV_6xjH"
      },
      "source": [
        "#### Consider the following statements about Transfer learning and answer Q1.\n",
        "\n",
        "A. Transfer learning enables feature extraction with pre-trained deep learning models.\n",
        "\n",
        "B. Transfer learning involves using models trained on one problem as a starting point on a related problem.\n",
        "\n",
        "C. Top performing models such as ResNet-50, GoogleNet can be downloaded and used directly, or integrated into a new model for your own computer vision problems.\n",
        "\n",
        "D. Transfer learning has the benefit of decreasing the training time for a neural network model and can result in lower generalization error."
      ]
    },
    {
      "cell_type": "code",
      "metadata": {
        "id": "NHDYadgG-RHl",
        "cellView": "form"
      },
      "source": [
        "#@title Q1. Which of the above statements is/are True regrading transfer learning?\n",
        "Answer1 = \"A, B, C and D\" #@param [\"\", \"Only A and B\", \"Only C and D\", \"Only A, B and D\", \"Only B, C and D\", \"Only A, B and C\", \"A, B, C and D\"]\n"
      ],
      "execution_count": 4,
      "outputs": []
    },
    {
      "cell_type": "code",
      "metadata": {
        "id": "_F3RfGojqZDc",
        "cellView": "form"
      },
      "source": [
        "#@title Q2. A problem with deep convolutional neural networks is that the number of feature maps often increases with the depth of the network. This problem can result in a dramatic increase in the number of parameters and computation required when larger filter sizes are used, such as 5×5 and 7×7. To address this problem, a 1×1 convolutional layer can be used that offers a channel-wise pooling, often called feature map pooling. This simple technique can be used for dimensionality reduction, decreasing the number of feature maps while retaining their salient features.\n",
        "Answer2 = \"TRUE\" #@param [\"\",\"TRUE\",\"FALSE\"]\n"
      ],
      "execution_count": 5,
      "outputs": []
    },
    {
      "cell_type": "code",
      "metadata": {
        "id": "NMzKSbLIgFzQ"
      },
      "source": [
        "#@title How was the experiment? { run: \"auto\", form-width: \"500px\", display-mode: \"form\" }\n",
        "Complexity = \"Good and Challenging for me\" #@param [\"\",\"Too Simple, I am wasting time\", \"Good, But Not Challenging for me\", \"Good and Challenging for me\", \"Was Tough, but I did it\", \"Too Difficult for me\"]\n"
      ],
      "execution_count": 6,
      "outputs": []
    },
    {
      "cell_type": "code",
      "metadata": {
        "id": "DjcH1VWSFI2l"
      },
      "source": [
        "#@title If it was too easy, what more would you have liked to be added? If it was very difficult, what would you have liked to have been removed? { run: \"auto\", display-mode: \"form\" }\n",
        "Additional = \"NA\" #@param {type:\"string\"}\n"
      ],
      "execution_count": 7,
      "outputs": []
    },
    {
      "cell_type": "code",
      "metadata": {
        "id": "4VBk_4VTAxCM"
      },
      "source": [
        "#@title Can you identify the concepts from the lecture which this experiment covered? { run: \"auto\", vertical-output: true, display-mode: \"form\" }\n",
        "Concepts = \"Yes\" #@param [\"\",\"Yes\", \"No\"]\n"
      ],
      "execution_count": 8,
      "outputs": []
    },
    {
      "cell_type": "code",
      "metadata": {
        "id": "XH91cL1JWH7m"
      },
      "source": [
        "#@title  Text and image description/explanation and code comments within the experiment: { run: \"auto\", vertical-output: true, display-mode: \"form\" }\n",
        "Comments = \"Very Useful\" #@param [\"\",\"Very Useful\", \"Somewhat Useful\", \"Not Useful\", \"Didn't use\"]\n"
      ],
      "execution_count": 9,
      "outputs": []
    },
    {
      "cell_type": "code",
      "metadata": {
        "id": "z8xLqj7VWIKW"
      },
      "source": [
        "#@title Mentor Support: { run: \"auto\", vertical-output: true, display-mode: \"form\" }\n",
        "Mentor_support = \"Somewhat Useful\" #@param [\"\",\"Very Useful\", \"Somewhat Useful\", \"Not Useful\", \"Didn't use\"]\n"
      ],
      "execution_count": 10,
      "outputs": []
    },
    {
      "cell_type": "code",
      "metadata": {
        "cellView": "form",
        "id": "FzAZHt1zw-Y-",
        "outputId": "1b1cab46-daf6-41c0-a96f-8efe17a984af",
        "colab": {
          "base_uri": "https://localhost:8080/"
        }
      },
      "source": [
        "#@title Run this cell to submit your notebook for grading { vertical-output: true }\n",
        "try:\n",
        "  if submission_id:\n",
        "      return_id = submit_notebook()\n",
        "      if return_id : submission_id = return_id\n",
        "  else:\n",
        "      print(\"Please complete the setup first.\")\n",
        "except NameError:\n",
        "  print (\"Please complete the setup first.\")"
      ],
      "execution_count": 11,
      "outputs": [
        {
          "output_type": "stream",
          "name": "stdout",
          "text": [
            "Your submission is successful.\n",
            "Ref Id: 1906\n",
            "Date of submission:  17 Jun 2023\n",
            "Time of submission:  19:32:43\n",
            "View your submissions: https://dlfa-iisc.talentsprint.com/notebook_submissions\n"
          ]
        }
      ]
    }
  ]
}